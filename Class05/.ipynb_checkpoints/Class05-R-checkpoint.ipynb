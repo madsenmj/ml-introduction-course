{
 "cells": [
  {
   "cell_type": "markdown",
   "metadata": {
    "collapsed": false
   },
   "source": [
    "# Class 05\n",
    "## Big Data Enrichment: Joining and Grouping data\n",
    "\n",
    "One of the skills in working with data is to pull multiple data sets together. There are often features we would like to use in training our machine learning model that aren't necessarily in the dataset we have in front of us. For example, we may be looking at attendance figures at baseball games, trying to predict what they will be for future games. However, we only have team statistics. The attendance certainly depends on the weather at the stadium (or in the city) on the day of a game. So we would like to be able to gather the weather data and add it to our model. We'll go through how to do something like that."
   ]
  },
  {
   "cell_type": "markdown",
   "metadata": {},
   "source": [
    "### First Dataset\n",
    "\n",
    "We start with data from the [Iowa open database of class \"E\" liquor licencee purchases](https://data.iowa.gov/Economy/Iowa-Liquor-Sales/m3tr-qhgy/data). I have filtered the data to include data from 10/1/2016 to 12/31/2016. I have also added up the sales for each day to each store. Note that I've added an argument `na.strings=\"\"`. This will turn any blank entries into `NA` values so we know we have a missing entry."
   ]
  },
  {
   "cell_type": "code",
   "execution_count": 1,
   "metadata": {
    "collapsed": false
   },
   "outputs": [
    {
     "data": {
      "text/html": [
       "<table>\n",
       "<thead><tr><th scope=col>Date</th><th scope=col>Store.Number</th><th scope=col>City</th><th scope=col>Zip.Code</th><th scope=col>County</th><th scope=col>Total.Sales.to.Store..Dollars.</th></tr></thead>\n",
       "<tbody>\n",
       "\t<tr><td>10/21/2016  </td><td>5110        </td><td>Lenox       </td><td>50851       </td><td>TAYLOR      </td><td>$1174.81    </td></tr>\n",
       "\t<tr><td>10/26/2016  </td><td>4201        </td><td>Sioux City  </td><td>51109       </td><td>WOODBURY    </td><td>$1218.25    </td></tr>\n",
       "\t<tr><td>12/21/2016  </td><td>4191        </td><td>Pella       </td><td>50219       </td><td>MARION      </td><td>$296.56     </td></tr>\n",
       "\t<tr><td>12/29/2016  </td><td>3877        </td><td>Des Moines  </td><td>50322       </td><td>Polk        </td><td>$7095.90    </td></tr>\n",
       "\t<tr><td>10/13/2016  </td><td>9928        </td><td>Cedar Rapids</td><td>52404       </td><td>LINN        </td><td>$19.50      </td></tr>\n",
       "\t<tr><td>10/25/2016  </td><td>4641        </td><td>Des Moines  </td><td>50315       </td><td>POLK        </td><td>$513.65     </td></tr>\n",
       "</tbody>\n",
       "</table>\n"
      ],
      "text/latex": [
       "\\begin{tabular}{r|llllll}\n",
       " Date & Store.Number & City & Zip.Code & County & Total.Sales.to.Store..Dollars.\\\\\n",
       "\\hline\n",
       "\t 10/21/2016   & 5110         & Lenox        & 50851        & TAYLOR       & \\$1174.81  \\\\\n",
       "\t 10/26/2016   & 4201         & Sioux City   & 51109        & WOODBURY     & \\$1218.25  \\\\\n",
       "\t 12/21/2016   & 4191         & Pella        & 50219        & MARION       & \\$296.56   \\\\\n",
       "\t 12/29/2016   & 3877         & Des Moines   & 50322        & Polk         & \\$7095.90  \\\\\n",
       "\t 10/13/2016   & 9928         & Cedar Rapids & 52404        & LINN         & \\$19.50    \\\\\n",
       "\t 10/25/2016   & 4641         & Des Moines   & 50315        & POLK         & \\$513.65   \\\\\n",
       "\\end{tabular}\n"
      ],
      "text/markdown": [
       "\n",
       "Date | Store.Number | City | Zip.Code | County | Total.Sales.to.Store..Dollars. | \n",
       "|---|---|---|---|---|---|\n",
       "| 10/21/2016   | 5110         | Lenox        | 50851        | TAYLOR       | $1174.81     | \n",
       "| 10/26/2016   | 4201         | Sioux City   | 51109        | WOODBURY     | $1218.25     | \n",
       "| 12/21/2016   | 4191         | Pella        | 50219        | MARION       | $296.56      | \n",
       "| 12/29/2016   | 3877         | Des Moines   | 50322        | Polk         | $7095.90     | \n",
       "| 10/13/2016   | 9928         | Cedar Rapids | 52404        | LINN         | $19.50       | \n",
       "| 10/25/2016   | 4641         | Des Moines   | 50315        | POLK         | $513.65      | \n",
       "\n",
       "\n"
      ],
      "text/plain": [
       "  Date       Store.Number City         Zip.Code County  \n",
       "1 10/21/2016 5110         Lenox        50851    TAYLOR  \n",
       "2 10/26/2016 4201         Sioux City   51109    WOODBURY\n",
       "3 12/21/2016 4191         Pella        50219    MARION  \n",
       "4 12/29/2016 3877         Des Moines   50322    Polk    \n",
       "5 10/13/2016 9928         Cedar Rapids 52404    LINN    \n",
       "6 10/25/2016 4641         Des Moines   50315    POLK    \n",
       "  Total.Sales.to.Store..Dollars.\n",
       "1 $1174.81                      \n",
       "2 $1218.25                      \n",
       "3 $296.56                       \n",
       "4 $7095.90                      \n",
       "5 $19.50                        \n",
       "6 $513.65                       "
      ]
     },
     "metadata": {},
     "output_type": "display_data"
    }
   ],
   "source": [
    "iowadf <- read.csv(\"Class05_iowa_data.csv\", stringsAsFactors=FALSE, na.strings=\"\")\n",
    "head(iowadf)"
   ]
  },
  {
   "cell_type": "code",
   "execution_count": 2,
   "metadata": {
    "collapsed": false
   },
   "outputs": [
    {
     "name": "stdout",
     "output_type": "stream",
     "text": [
      "'data.frame':\t13779 obs. of  6 variables:\n",
      " $ Date                          : chr  \"10/21/2016\" \"10/26/2016\" \"12/21/2016\" \"12/29/2016\" ...\n",
      " $ Store.Number                  : int  5110 4201 4191 3877 9928 4641 4345 4599 2652 4236 ...\n",
      " $ City                          : chr  \"Lenox\" \"Sioux City\" \"Pella\" \"Des Moines\" ...\n",
      " $ Zip.Code                      : chr  \"50851\" \"51109\" \"50219\" \"50322\" ...\n",
      " $ County                        : chr  \"TAYLOR\" \"WOODBURY\" \"MARION\" \"Polk\" ...\n",
      " $ Total.Sales.to.Store..Dollars.: chr  \"$1174.81\" \"$1218.25\" \"$296.56\" \"$7095.90\" ...\n"
     ]
    }
   ],
   "source": [
    "# The sales data looks like it isn't a float like we want it to be (the presence of a $ in front is my clue that there may be something wrong.) Let's look at the data types to be sure.\n",
    "str(iowadf)"
   ]
  },
  {
   "cell_type": "code",
   "execution_count": 3,
   "metadata": {
    "collapsed": false
   },
   "outputs": [
    {
     "name": "stdout",
     "output_type": "stream",
     "text": [
      "'data.frame':\t13779 obs. of  7 variables:\n",
      " $ Date                          : chr  \"10/21/2016\" \"10/26/2016\" \"12/21/2016\" \"12/29/2016\" ...\n",
      " $ Store.Number                  : int  5110 4201 4191 3877 9928 4641 4345 4599 2652 4236 ...\n",
      " $ City                          : chr  \"Lenox\" \"Sioux City\" \"Pella\" \"Des Moines\" ...\n",
      " $ Zip.Code                      : chr  \"50851\" \"51109\" \"50219\" \"50322\" ...\n",
      " $ County                        : chr  \"TAYLOR\" \"WOODBURY\" \"MARION\" \"Polk\" ...\n",
      " $ Total.Sales.to.Store..Dollars.: chr  \"$1174.81\" \"$1218.25\" \"$296.56\" \"$7095.90\" ...\n",
      " $ SalesToStore                  : num  1174.8 1218.2 296.6 7095.9 19.5 ...\n",
      "NULL\n"
     ]
    },
    {
     "data": {
      "text/html": [
       "<table>\n",
       "<thead><tr><th scope=col>Date</th><th scope=col>Store.Number</th><th scope=col>City</th><th scope=col>Zip.Code</th><th scope=col>County</th><th scope=col>Total.Sales.to.Store..Dollars.</th><th scope=col>SalesToStore</th></tr></thead>\n",
       "<tbody>\n",
       "\t<tr><td>10/21/2016  </td><td>5110        </td><td>Lenox       </td><td>50851       </td><td>TAYLOR      </td><td>$1174.81    </td><td>1174.81     </td></tr>\n",
       "\t<tr><td>10/26/2016  </td><td>4201        </td><td>Sioux City  </td><td>51109       </td><td>WOODBURY    </td><td>$1218.25    </td><td>1218.25     </td></tr>\n",
       "\t<tr><td>12/21/2016  </td><td>4191        </td><td>Pella       </td><td>50219       </td><td>MARION      </td><td>$296.56     </td><td> 296.56     </td></tr>\n",
       "\t<tr><td>12/29/2016  </td><td>3877        </td><td>Des Moines  </td><td>50322       </td><td>Polk        </td><td>$7095.90    </td><td>7095.90     </td></tr>\n",
       "\t<tr><td>10/13/2016  </td><td>9928        </td><td>Cedar Rapids</td><td>52404       </td><td>LINN        </td><td>$19.50      </td><td>  19.50     </td></tr>\n",
       "\t<tr><td>10/25/2016  </td><td>4641        </td><td>Des Moines  </td><td>50315       </td><td>POLK        </td><td>$513.65     </td><td> 513.65     </td></tr>\n",
       "</tbody>\n",
       "</table>\n"
      ],
      "text/latex": [
       "\\begin{tabular}{r|lllllll}\n",
       " Date & Store.Number & City & Zip.Code & County & Total.Sales.to.Store..Dollars. & SalesToStore\\\\\n",
       "\\hline\n",
       "\t 10/21/2016   & 5110         & Lenox        & 50851        & TAYLOR       & \\$1174.81   & 1174.81     \\\\\n",
       "\t 10/26/2016   & 4201         & Sioux City   & 51109        & WOODBURY     & \\$1218.25   & 1218.25     \\\\\n",
       "\t 12/21/2016   & 4191         & Pella        & 50219        & MARION       & \\$296.56    &  296.56     \\\\\n",
       "\t 12/29/2016   & 3877         & Des Moines   & 50322        & Polk         & \\$7095.90   & 7095.90     \\\\\n",
       "\t 10/13/2016   & 9928         & Cedar Rapids & 52404        & LINN         & \\$19.50     &   19.50     \\\\\n",
       "\t 10/25/2016   & 4641         & Des Moines   & 50315        & POLK         & \\$513.65    &  513.65     \\\\\n",
       "\\end{tabular}\n"
      ],
      "text/markdown": [
       "\n",
       "Date | Store.Number | City | Zip.Code | County | Total.Sales.to.Store..Dollars. | SalesToStore | \n",
       "|---|---|---|---|---|---|\n",
       "| 10/21/2016   | 5110         | Lenox        | 50851        | TAYLOR       | $1174.81     | 1174.81      | \n",
       "| 10/26/2016   | 4201         | Sioux City   | 51109        | WOODBURY     | $1218.25     | 1218.25      | \n",
       "| 12/21/2016   | 4191         | Pella        | 50219        | MARION       | $296.56      |  296.56      | \n",
       "| 12/29/2016   | 3877         | Des Moines   | 50322        | Polk         | $7095.90     | 7095.90      | \n",
       "| 10/13/2016   | 9928         | Cedar Rapids | 52404        | LINN         | $19.50       |   19.50      | \n",
       "| 10/25/2016   | 4641         | Des Moines   | 50315        | POLK         | $513.65      |  513.65      | \n",
       "\n",
       "\n"
      ],
      "text/plain": [
       "  Date       Store.Number City         Zip.Code County  \n",
       "1 10/21/2016 5110         Lenox        50851    TAYLOR  \n",
       "2 10/26/2016 4201         Sioux City   51109    WOODBURY\n",
       "3 12/21/2016 4191         Pella        50219    MARION  \n",
       "4 12/29/2016 3877         Des Moines   50322    Polk    \n",
       "5 10/13/2016 9928         Cedar Rapids 52404    LINN    \n",
       "6 10/25/2016 4641         Des Moines   50315    POLK    \n",
       "  Total.Sales.to.Store..Dollars. SalesToStore\n",
       "1 $1174.81                       1174.81     \n",
       "2 $1218.25                       1218.25     \n",
       "3 $296.56                         296.56     \n",
       "4 $7095.90                       7095.90     \n",
       "5 $19.50                           19.50     \n",
       "6 $513.65                         513.65     "
      ]
     },
     "metadata": {},
     "output_type": "display_data"
    }
   ],
   "source": [
    "# Sure enough. We need to get the real values from that column. We'll create a new column for that data and use the regex parser to get the number.\n",
    "iowadf$SalesToStore<-gsub(\"\\\\$\",\"\",iowadf$Total.Sales.to.Store..Dollars.)\n",
    "\n",
    "# We also need to convert the output to a float.\n",
    "iowadf$SalesToStore <- as.numeric(iowadf$SalesToStore)\n",
    "print(str(iowadf))\n",
    "head(iowadf)"
   ]
  },
  {
   "cell_type": "code",
   "execution_count": 4,
   "metadata": {
    "collapsed": false
   },
   "outputs": [
    {
     "name": "stdout",
     "output_type": "stream",
     "text": [
      "'data.frame':\t13779 obs. of  8 variables:\n",
      " $ Date                          : chr  \"10/21/2016\" \"10/26/2016\" \"12/21/2016\" \"12/29/2016\" ...\n",
      " $ Store.Number                  : int  5110 4201 4191 3877 9928 4641 4345 4599 2652 4236 ...\n",
      " $ City                          : chr  \"Lenox\" \"Sioux City\" \"Pella\" \"Des Moines\" ...\n",
      " $ Zip.Code                      : chr  \"50851\" \"51109\" \"50219\" \"50322\" ...\n",
      " $ County                        : chr  \"TAYLOR\" \"WOODBURY\" \"MARION\" \"Polk\" ...\n",
      " $ Total.Sales.to.Store..Dollars.: chr  \"$1174.81\" \"$1218.25\" \"$296.56\" \"$7095.90\" ...\n",
      " $ SalesToStore                  : num  1174.8 1218.2 296.6 7095.9 19.5 ...\n",
      " $ SalesDate                     : POSIXct, format: \"2016-10-21\" \"2016-10-26\" ...\n",
      "NULL\n"
     ]
    },
    {
     "data": {
      "text/html": [
       "<table>\n",
       "<thead><tr><th scope=col>Date</th><th scope=col>Store.Number</th><th scope=col>City</th><th scope=col>Zip.Code</th><th scope=col>County</th><th scope=col>Total.Sales.to.Store..Dollars.</th><th scope=col>SalesToStore</th><th scope=col>SalesDate</th></tr></thead>\n",
       "<tbody>\n",
       "\t<tr><td>10/21/2016  </td><td>5110        </td><td>Lenox       </td><td>50851       </td><td>TAYLOR      </td><td>$1174.81    </td><td>1174.81     </td><td>2016-10-21  </td></tr>\n",
       "\t<tr><td>10/26/2016  </td><td>4201        </td><td>Sioux City  </td><td>51109       </td><td>WOODBURY    </td><td>$1218.25    </td><td>1218.25     </td><td>2016-10-26  </td></tr>\n",
       "\t<tr><td>12/21/2016  </td><td>4191        </td><td>Pella       </td><td>50219       </td><td>MARION      </td><td>$296.56     </td><td> 296.56     </td><td>2016-12-21  </td></tr>\n",
       "\t<tr><td>12/29/2016  </td><td>3877        </td><td>Des Moines  </td><td>50322       </td><td>Polk        </td><td>$7095.90    </td><td>7095.90     </td><td>2016-12-29  </td></tr>\n",
       "\t<tr><td>10/13/2016  </td><td>9928        </td><td>Cedar Rapids</td><td>52404       </td><td>LINN        </td><td>$19.50      </td><td>  19.50     </td><td>2016-10-13  </td></tr>\n",
       "\t<tr><td>10/25/2016  </td><td>4641        </td><td>Des Moines  </td><td>50315       </td><td>POLK        </td><td>$513.65     </td><td> 513.65     </td><td>2016-10-25  </td></tr>\n",
       "</tbody>\n",
       "</table>\n"
      ],
      "text/latex": [
       "\\begin{tabular}{r|llllllll}\n",
       " Date & Store.Number & City & Zip.Code & County & Total.Sales.to.Store..Dollars. & SalesToStore & SalesDate\\\\\n",
       "\\hline\n",
       "\t 10/21/2016   & 5110         & Lenox        & 50851        & TAYLOR       & \\$1174.81   & 1174.81      & 2016-10-21  \\\\\n",
       "\t 10/26/2016   & 4201         & Sioux City   & 51109        & WOODBURY     & \\$1218.25   & 1218.25      & 2016-10-26  \\\\\n",
       "\t 12/21/2016   & 4191         & Pella        & 50219        & MARION       & \\$296.56    &  296.56      & 2016-12-21  \\\\\n",
       "\t 12/29/2016   & 3877         & Des Moines   & 50322        & Polk         & \\$7095.90   & 7095.90      & 2016-12-29  \\\\\n",
       "\t 10/13/2016   & 9928         & Cedar Rapids & 52404        & LINN         & \\$19.50     &   19.50      & 2016-10-13  \\\\\n",
       "\t 10/25/2016   & 4641         & Des Moines   & 50315        & POLK         & \\$513.65    &  513.65      & 2016-10-25  \\\\\n",
       "\\end{tabular}\n"
      ],
      "text/markdown": [
       "\n",
       "Date | Store.Number | City | Zip.Code | County | Total.Sales.to.Store..Dollars. | SalesToStore | SalesDate | \n",
       "|---|---|---|---|---|---|\n",
       "| 10/21/2016   | 5110         | Lenox        | 50851        | TAYLOR       | $1174.81     | 1174.81      | 2016-10-21   | \n",
       "| 10/26/2016   | 4201         | Sioux City   | 51109        | WOODBURY     | $1218.25     | 1218.25      | 2016-10-26   | \n",
       "| 12/21/2016   | 4191         | Pella        | 50219        | MARION       | $296.56      |  296.56      | 2016-12-21   | \n",
       "| 12/29/2016   | 3877         | Des Moines   | 50322        | Polk         | $7095.90     | 7095.90      | 2016-12-29   | \n",
       "| 10/13/2016   | 9928         | Cedar Rapids | 52404        | LINN         | $19.50       |   19.50      | 2016-10-13   | \n",
       "| 10/25/2016   | 4641         | Des Moines   | 50315        | POLK         | $513.65      |  513.65      | 2016-10-25   | \n",
       "\n",
       "\n"
      ],
      "text/plain": [
       "  Date       Store.Number City         Zip.Code County  \n",
       "1 10/21/2016 5110         Lenox        50851    TAYLOR  \n",
       "2 10/26/2016 4201         Sioux City   51109    WOODBURY\n",
       "3 12/21/2016 4191         Pella        50219    MARION  \n",
       "4 12/29/2016 3877         Des Moines   50322    Polk    \n",
       "5 10/13/2016 9928         Cedar Rapids 52404    LINN    \n",
       "6 10/25/2016 4641         Des Moines   50315    POLK    \n",
       "  Total.Sales.to.Store..Dollars. SalesToStore SalesDate \n",
       "1 $1174.81                       1174.81      2016-10-21\n",
       "2 $1218.25                       1218.25      2016-10-26\n",
       "3 $296.56                         296.56      2016-12-21\n",
       "4 $7095.90                       7095.90      2016-12-29\n",
       "5 $19.50                           19.50      2016-10-13\n",
       "6 $513.65                         513.65      2016-10-25"
      ]
     },
     "metadata": {},
     "output_type": "display_data"
    }
   ],
   "source": [
    "# We also need to convert the date. We'll try this and see if it parses the date correctly.\n",
    "iowadf$SalesDate <- as.POSIXct(iowadf$Date, format=\"%m/%d/%Y\")\n",
    "print(str(iowadf))\n",
    "head(iowadf)"
   ]
  },
  {
   "cell_type": "code",
   "execution_count": 5,
   "metadata": {
    "collapsed": false
   },
   "outputs": [
    {
     "data": {
      "text/html": [
       "TRUE"
      ],
      "text/latex": [
       "TRUE"
      ],
      "text/markdown": [
       "TRUE"
      ],
      "text/plain": [
       "[1] TRUE"
      ]
     },
     "metadata": {},
     "output_type": "display_data"
    }
   ],
   "source": [
    "# Let's do a bit more data exploration here to see if there are any other issues. For example, let's see if there are any NA values in the dataframe. That may indicate a problem. We'll first check the entire dataframe.\n",
    "# This looks for any null value then combines them together. It will only be true if there are any null values.\n",
    "any(is.na(iowadf))"
   ]
  },
  {
   "cell_type": "code",
   "execution_count": 6,
   "metadata": {
    "collapsed": false
   },
   "outputs": [
    {
     "name": "stdout",
     "output_type": "stream",
     "text": [
      "[1] \"Initial rows: 13779\"\n",
      "[1] \"Initial rows: 13754\"\n"
     ]
    },
    {
     "data": {
      "text/html": [
       "FALSE"
      ],
      "text/latex": [
       "FALSE"
      ],
      "text/markdown": [
       "FALSE"
      ],
      "text/plain": [
       "[1] FALSE"
      ]
     },
     "metadata": {},
     "output_type": "display_data"
    }
   ],
   "source": [
    "#Let's see how many data points have null values. We'll look at the total rows and \n",
    "print(paste(\"Initial rows:\",nrow(iowadf)))\n",
    "iowadfcl <- iowadf[complete.cases(iowadf),]\n",
    "print(paste(\"Initial rows:\",nrow(iowadfcl)))\n",
    "any(is.na(iowadfcl))"
   ]
  },
  {
   "cell_type": "markdown",
   "metadata": {},
   "source": [
    "We only lose 25 rows out of 13,000. I'm going to go with that- it simplifies further computations.\n",
    "\n",
    "## Grouping and subsetting data\n",
    "\n",
    "We now want to narrow down the data in order to make it easier to work with joining datasets. Let's get the top-purchasing store and use just that store for our further work. We first need to do an analysis step: we want to add up all the sales for each store. In other words, we want to group by store, then sum up the StoreSales. \n",
    "\n",
    "[This](http://genomicsclass.github.io/book/pages/dplyr_tutorial.html) is a good tutorial on how to use the `dplyr` package in `R`, which will will be using here.\n",
    "\n",
    "\n",
    "The first step is to use the `group_by()` function to group the data into sections that all have something in common. For our case, we will group by the \"Store Number\". `Dplyr` will go through that column, find all the unique values, then group them together. We then want to `summarize()` the results from the grouping. The function `n()` will count the number of entries in each group. We assign the output to a new column called `count`. The pipe operator `%>%` tells `dplr` to take the item on the left and send it to the item on the right."
   ]
  },
  {
   "cell_type": "code",
   "execution_count": 8,
   "metadata": {
    "collapsed": false
   },
   "outputs": [
    {
     "data": {
      "text/html": [
       "<table>\n",
       "<thead><tr><th scope=col>Store.Number</th><th scope=col>count</th></tr></thead>\n",
       "<tbody>\n",
       "\t<tr><td>2106</td><td>12  </td></tr>\n",
       "\t<tr><td>2113</td><td>13  </td></tr>\n",
       "\t<tr><td>2130</td><td>12  </td></tr>\n",
       "\t<tr><td>2178</td><td>12  </td></tr>\n",
       "\t<tr><td>2190</td><td>54  </td></tr>\n",
       "\t<tr><td>2191</td><td>13  </td></tr>\n",
       "\t<tr><td>2200</td><td>13  </td></tr>\n",
       "\t<tr><td>2228</td><td>13  </td></tr>\n",
       "\t<tr><td>2233</td><td>13  </td></tr>\n",
       "\t<tr><td>2238</td><td> 8  </td></tr>\n",
       "\t<tr><td>2248</td><td>15  </td></tr>\n",
       "\t<tr><td>2285</td><td>13  </td></tr>\n",
       "\t<tr><td>2290</td><td> 1  </td></tr>\n",
       "\t<tr><td>2327</td><td>12  </td></tr>\n",
       "\t<tr><td>2413</td><td>13  </td></tr>\n",
       "\t<tr><td>2445</td><td>11  </td></tr>\n",
       "\t<tr><td>2448</td><td>13  </td></tr>\n",
       "\t<tr><td>2459</td><td>10  </td></tr>\n",
       "\t<tr><td>2460</td><td>15  </td></tr>\n",
       "\t<tr><td>2465</td><td>13  </td></tr>\n",
       "\t<tr><td>2475</td><td>12  </td></tr>\n",
       "\t<tr><td>2478</td><td>13  </td></tr>\n",
       "\t<tr><td>2498</td><td> 4  </td></tr>\n",
       "\t<tr><td>2500</td><td>14  </td></tr>\n",
       "\t<tr><td>2501</td><td>13  </td></tr>\n",
       "\t<tr><td>2502</td><td>16  </td></tr>\n",
       "\t<tr><td>2505</td><td>18  </td></tr>\n",
       "\t<tr><td>2506</td><td>13  </td></tr>\n",
       "\t<tr><td>2507</td><td>13  </td></tr>\n",
       "\t<tr><td>2508</td><td>14  </td></tr>\n",
       "\t<tr><td>...</td><td>...</td></tr>\n",
       "\t<tr><td>5350</td><td> 1  </td></tr>\n",
       "\t<tr><td>5351</td><td> 5  </td></tr>\n",
       "\t<tr><td>5352</td><td> 2  </td></tr>\n",
       "\t<tr><td>5353</td><td> 2  </td></tr>\n",
       "\t<tr><td>5354</td><td> 1  </td></tr>\n",
       "\t<tr><td>5355</td><td> 1  </td></tr>\n",
       "\t<tr><td>5356</td><td> 1  </td></tr>\n",
       "\t<tr><td>5358</td><td> 2  </td></tr>\n",
       "\t<tr><td>5359</td><td> 1  </td></tr>\n",
       "\t<tr><td>5360</td><td> 2  </td></tr>\n",
       "\t<tr><td>9001</td><td>10  </td></tr>\n",
       "\t<tr><td>9002</td><td> 9  </td></tr>\n",
       "\t<tr><td>9010</td><td> 2  </td></tr>\n",
       "\t<tr><td>9013</td><td> 9  </td></tr>\n",
       "\t<tr><td>9018</td><td> 1  </td></tr>\n",
       "\t<tr><td>9022</td><td> 1  </td></tr>\n",
       "\t<tr><td>9023</td><td> 2  </td></tr>\n",
       "\t<tr><td>9901</td><td> 9  </td></tr>\n",
       "\t<tr><td>9902</td><td> 7  </td></tr>\n",
       "\t<tr><td>9906</td><td>21  </td></tr>\n",
       "\t<tr><td>9910</td><td> 1  </td></tr>\n",
       "\t<tr><td>9911</td><td>30  </td></tr>\n",
       "\t<tr><td>9912</td><td> 1  </td></tr>\n",
       "\t<tr><td>9913</td><td> 3  </td></tr>\n",
       "\t<tr><td>9919</td><td> 3  </td></tr>\n",
       "\t<tr><td>9922</td><td> 1  </td></tr>\n",
       "\t<tr><td>9927</td><td> 1  </td></tr>\n",
       "\t<tr><td>9928</td><td> 1  </td></tr>\n",
       "\t<tr><td>9929</td><td> 1  </td></tr>\n",
       "\t<tr><td>9930</td><td> 1  </td></tr>\n",
       "</tbody>\n",
       "</table>\n"
      ],
      "text/latex": [
       "\\begin{tabular}{r|ll}\n",
       " Store.Number & count\\\\\n",
       "\\hline\n",
       "\t 2106 & 12  \\\\\n",
       "\t 2113 & 13  \\\\\n",
       "\t 2130 & 12  \\\\\n",
       "\t 2178 & 12  \\\\\n",
       "\t 2190 & 54  \\\\\n",
       "\t 2191 & 13  \\\\\n",
       "\t 2200 & 13  \\\\\n",
       "\t 2228 & 13  \\\\\n",
       "\t 2233 & 13  \\\\\n",
       "\t 2238 &  8  \\\\\n",
       "\t 2248 & 15  \\\\\n",
       "\t 2285 & 13  \\\\\n",
       "\t 2290 &  1  \\\\\n",
       "\t 2327 & 12  \\\\\n",
       "\t 2413 & 13  \\\\\n",
       "\t 2445 & 11  \\\\\n",
       "\t 2448 & 13  \\\\\n",
       "\t 2459 & 10  \\\\\n",
       "\t 2460 & 15  \\\\\n",
       "\t 2465 & 13  \\\\\n",
       "\t 2475 & 12  \\\\\n",
       "\t 2478 & 13  \\\\\n",
       "\t 2498 &  4  \\\\\n",
       "\t 2500 & 14  \\\\\n",
       "\t 2501 & 13  \\\\\n",
       "\t 2502 & 16  \\\\\n",
       "\t 2505 & 18  \\\\\n",
       "\t 2506 & 13  \\\\\n",
       "\t 2507 & 13  \\\\\n",
       "\t 2508 & 14  \\\\\n",
       "\t ... & ...\\\\\n",
       "\t 5350 &  1  \\\\\n",
       "\t 5351 &  5  \\\\\n",
       "\t 5352 &  2  \\\\\n",
       "\t 5353 &  2  \\\\\n",
       "\t 5354 &  1  \\\\\n",
       "\t 5355 &  1  \\\\\n",
       "\t 5356 &  1  \\\\\n",
       "\t 5358 &  2  \\\\\n",
       "\t 5359 &  1  \\\\\n",
       "\t 5360 &  2  \\\\\n",
       "\t 9001 & 10  \\\\\n",
       "\t 9002 &  9  \\\\\n",
       "\t 9010 &  2  \\\\\n",
       "\t 9013 &  9  \\\\\n",
       "\t 9018 &  1  \\\\\n",
       "\t 9022 &  1  \\\\\n",
       "\t 9023 &  2  \\\\\n",
       "\t 9901 &  9  \\\\\n",
       "\t 9902 &  7  \\\\\n",
       "\t 9906 & 21  \\\\\n",
       "\t 9910 &  1  \\\\\n",
       "\t 9911 & 30  \\\\\n",
       "\t 9912 &  1  \\\\\n",
       "\t 9913 &  3  \\\\\n",
       "\t 9919 &  3  \\\\\n",
       "\t 9922 &  1  \\\\\n",
       "\t 9927 &  1  \\\\\n",
       "\t 9928 &  1  \\\\\n",
       "\t 9929 &  1  \\\\\n",
       "\t 9930 &  1  \\\\\n",
       "\\end{tabular}\n"
      ],
      "text/markdown": [
       "\n",
       "Store.Number | count | \n",
       "|---|---|---|---|---|---|---|---|---|---|---|---|---|---|---|---|---|---|---|---|---|---|---|---|---|---|---|---|---|---|---|---|---|---|---|---|---|---|---|---|---|---|---|---|---|---|---|---|---|---|---|---|---|---|---|---|---|---|---|---|---|\n",
       "| 2106 | 12   | \n",
       "| 2113 | 13   | \n",
       "| 2130 | 12   | \n",
       "| 2178 | 12   | \n",
       "| 2190 | 54   | \n",
       "| 2191 | 13   | \n",
       "| 2200 | 13   | \n",
       "| 2228 | 13   | \n",
       "| 2233 | 13   | \n",
       "| 2238 |  8   | \n",
       "| 2248 | 15   | \n",
       "| 2285 | 13   | \n",
       "| 2290 |  1   | \n",
       "| 2327 | 12   | \n",
       "| 2413 | 13   | \n",
       "| 2445 | 11   | \n",
       "| 2448 | 13   | \n",
       "| 2459 | 10   | \n",
       "| 2460 | 15   | \n",
       "| 2465 | 13   | \n",
       "| 2475 | 12   | \n",
       "| 2478 | 13   | \n",
       "| 2498 |  4   | \n",
       "| 2500 | 14   | \n",
       "| 2501 | 13   | \n",
       "| 2502 | 16   | \n",
       "| 2505 | 18   | \n",
       "| 2506 | 13   | \n",
       "| 2507 | 13   | \n",
       "| 2508 | 14   | \n",
       "| ... | ... | \n",
       "| 5350 |  1   | \n",
       "| 5351 |  5   | \n",
       "| 5352 |  2   | \n",
       "| 5353 |  2   | \n",
       "| 5354 |  1   | \n",
       "| 5355 |  1   | \n",
       "| 5356 |  1   | \n",
       "| 5358 |  2   | \n",
       "| 5359 |  1   | \n",
       "| 5360 |  2   | \n",
       "| 9001 | 10   | \n",
       "| 9002 |  9   | \n",
       "| 9010 |  2   | \n",
       "| 9013 |  9   | \n",
       "| 9018 |  1   | \n",
       "| 9022 |  1   | \n",
       "| 9023 |  2   | \n",
       "| 9901 |  9   | \n",
       "| 9902 |  7   | \n",
       "| 9906 | 21   | \n",
       "| 9910 |  1   | \n",
       "| 9911 | 30   | \n",
       "| 9912 |  1   | \n",
       "| 9913 |  3   | \n",
       "| 9919 |  3   | \n",
       "| 9922 |  1   | \n",
       "| 9927 |  1   | \n",
       "| 9928 |  1   | \n",
       "| 9929 |  1   | \n",
       "| 9930 |  1   | \n",
       "\n",
       "\n"
      ],
      "text/plain": [
       "     Store.Number count\n",
       "1    2106         12   \n",
       "2    2113         13   \n",
       "3    2130         12   \n",
       "4    2178         12   \n",
       "5    2190         54   \n",
       "6    2191         13   \n",
       "7    2200         13   \n",
       "8    2228         13   \n",
       "9    2233         13   \n",
       "10   2238          8   \n",
       "11   2248         15   \n",
       "12   2285         13   \n",
       "13   2290          1   \n",
       "14   2327         12   \n",
       "15   2413         13   \n",
       "16   2445         11   \n",
       "17   2448         13   \n",
       "18   2459         10   \n",
       "19   2460         15   \n",
       "20   2465         13   \n",
       "21   2475         12   \n",
       "22   2478         13   \n",
       "23   2498          4   \n",
       "24   2500         14   \n",
       "25   2501         13   \n",
       "26   2502         16   \n",
       "27   2505         18   \n",
       "28   2506         13   \n",
       "29   2507         13   \n",
       "30   2508         14   \n",
       "...  ...          ...  \n",
       "1357 5350          1   \n",
       "1358 5351          5   \n",
       "1359 5352          2   \n",
       "1360 5353          2   \n",
       "1361 5354          1   \n",
       "1362 5355          1   \n",
       "1363 5356          1   \n",
       "1364 5358          2   \n",
       "1365 5359          1   \n",
       "1366 5360          2   \n",
       "1367 9001         10   \n",
       "1368 9002          9   \n",
       "1369 9010          2   \n",
       "1370 9013          9   \n",
       "1371 9018          1   \n",
       "1372 9022          1   \n",
       "1373 9023          2   \n",
       "1374 9901          9   \n",
       "1375 9902          7   \n",
       "1376 9906         21   \n",
       "1377 9910          1   \n",
       "1378 9911         30   \n",
       "1379 9912          1   \n",
       "1380 9913          3   \n",
       "1381 9919          3   \n",
       "1382 9922          1   \n",
       "1383 9927          1   \n",
       "1384 9928          1   \n",
       "1385 9929          1   \n",
       "1386 9930          1   "
      ]
     },
     "metadata": {},
     "output_type": "display_data"
    }
   ],
   "source": [
    "library(dplyr)\n",
    "iowadf %>% group_by(Store.Number) %>% summarize(count=n())"
   ]
  },
  {
   "cell_type": "markdown",
   "metadata": {},
   "source": [
    "Instead of the count, what if we want the sum of total sales to the stores, sorted by the maximum first? We create a new pipeline that groups, summs, then sorts. Finally, we assign the output of this to a new dataframe."
   ]
  },
  {
   "cell_type": "code",
   "execution_count": 9,
   "metadata": {
    "collapsed": false
   },
   "outputs": [
    {
     "data": {
      "text/html": [
       "<table>\n",
       "<thead><tr><th scope=col>Store.Number</th><th scope=col>TotalSales</th></tr></thead>\n",
       "<tbody>\n",
       "\t<tr><td>2633    </td><td>805018.2</td></tr>\n",
       "\t<tr><td>4829    </td><td>788918.6</td></tr>\n",
       "\t<tr><td>2670    </td><td>441203.2</td></tr>\n",
       "\t<tr><td>3773    </td><td>391374.5</td></tr>\n",
       "\t<tr><td>2512    </td><td>381749.6</td></tr>\n",
       "\t<tr><td>3952    </td><td>329222.1</td></tr>\n",
       "\t<tr><td>5102    </td><td>322702.9</td></tr>\n",
       "\t<tr><td>2663    </td><td>301419.4</td></tr>\n",
       "\t<tr><td>2619    </td><td>284403.0</td></tr>\n",
       "\t<tr><td>3385    </td><td>283767.4</td></tr>\n",
       "</tbody>\n",
       "</table>\n"
      ],
      "text/latex": [
       "\\begin{tabular}{r|ll}\n",
       " Store.Number & TotalSales\\\\\n",
       "\\hline\n",
       "\t 2633     & 805018.2\\\\\n",
       "\t 4829     & 788918.6\\\\\n",
       "\t 2670     & 441203.2\\\\\n",
       "\t 3773     & 391374.5\\\\\n",
       "\t 2512     & 381749.6\\\\\n",
       "\t 3952     & 329222.1\\\\\n",
       "\t 5102     & 322702.9\\\\\n",
       "\t 2663     & 301419.4\\\\\n",
       "\t 2619     & 284403.0\\\\\n",
       "\t 3385     & 283767.4\\\\\n",
       "\\end{tabular}\n"
      ],
      "text/markdown": [
       "\n",
       "Store.Number | TotalSales | \n",
       "|---|---|---|---|---|---|---|---|---|---|\n",
       "| 2633     | 805018.2 | \n",
       "| 4829     | 788918.6 | \n",
       "| 2670     | 441203.2 | \n",
       "| 3773     | 391374.5 | \n",
       "| 2512     | 381749.6 | \n",
       "| 3952     | 329222.1 | \n",
       "| 5102     | 322702.9 | \n",
       "| 2663     | 301419.4 | \n",
       "| 2619     | 284403.0 | \n",
       "| 3385     | 283767.4 | \n",
       "\n",
       "\n"
      ],
      "text/plain": [
       "   Store.Number TotalSales\n",
       "1  2633         805018.2  \n",
       "2  4829         788918.6  \n",
       "3  2670         441203.2  \n",
       "4  3773         391374.5  \n",
       "5  2512         381749.6  \n",
       "6  3952         329222.1  \n",
       "7  5102         322702.9  \n",
       "8  2663         301419.4  \n",
       "9  2619         284403.0  \n",
       "10 3385         283767.4  "
      ]
     },
     "metadata": {},
     "output_type": "display_data"
    }
   ],
   "source": [
    "storesum <- iowadf %>% group_by(Store.Number) %>% summarize(TotalSales=sum(SalesToStore)) %>% arrange(desc(TotalSales))\n",
    "head(storesum,10) "
   ]
  },
  {
   "cell_type": "markdown",
   "metadata": {},
   "source": [
    "### Subsetting Data\n",
    "\n",
    "It looks like the store number 2633 purchased more liquor than any other store, so we want only that subset of the data. We subset the data by looking only for rows where the store number matches 2633. This returns a column of True/False values where the Store Number matches our store."
   ]
  },
  {
   "cell_type": "code",
   "execution_count": 10,
   "metadata": {
    "collapsed": false
   },
   "outputs": [
    {
     "data": {
      "text/html": [
       "<ol class=list-inline>\n",
       "\t<li>FALSE</li>\n",
       "\t<li>FALSE</li>\n",
       "\t<li>FALSE</li>\n",
       "\t<li>FALSE</li>\n",
       "\t<li>FALSE</li>\n",
       "\t<li>FALSE</li>\n",
       "</ol>\n"
      ],
      "text/latex": [
       "\\begin{enumerate*}\n",
       "\\item FALSE\n",
       "\\item FALSE\n",
       "\\item FALSE\n",
       "\\item FALSE\n",
       "\\item FALSE\n",
       "\\item FALSE\n",
       "\\end{enumerate*}\n"
      ],
      "text/markdown": [
       "1. FALSE\n",
       "2. FALSE\n",
       "3. FALSE\n",
       "4. FALSE\n",
       "5. FALSE\n",
       "6. FALSE\n",
       "\n",
       "\n"
      ],
      "text/plain": [
       "[1] FALSE FALSE FALSE FALSE FALSE FALSE"
      ]
     },
     "metadata": {},
     "output_type": "display_data"
    }
   ],
   "source": [
    "subsetrows <- iowadfcl$Store.Number==2633\n",
    "head(subsetrows)"
   ]
  },
  {
   "cell_type": "markdown",
   "metadata": {},
   "source": [
    "We then index the dataframe based on those rows. We get a dataframe that only has data from the store we want. Again, notice the `,` after `subsetrows`. `R` indexes dataframes using a `[rows,columns]` format. By leaving the `columns` entry blank, we get all of the columns in the dataframe."
   ]
  },
  {
   "cell_type": "code",
   "execution_count": 11,
   "metadata": {
    "collapsed": false
   },
   "outputs": [
    {
     "data": {
      "text/html": [
       "<table>\n",
       "<thead><tr><th></th><th scope=col>Date</th><th scope=col>Store.Number</th><th scope=col>City</th><th scope=col>Zip.Code</th><th scope=col>County</th><th scope=col>Total.Sales.to.Store..Dollars.</th><th scope=col>SalesToStore</th><th scope=col>SalesDate</th></tr></thead>\n",
       "<tbody>\n",
       "\t<tr><th scope=row>322</th><td>11/03/2016</td><td>2633      </td><td>Des Moines</td><td>50320     </td><td>POLK      </td><td>$31294.03 </td><td>31294.03  </td><td>2016-11-03</td></tr>\n",
       "\t<tr><th scope=row>1106</th><td>10/06/2016</td><td>2633      </td><td>Des Moines</td><td>50320     </td><td>POLK      </td><td>$34386.10 </td><td>34386.10  </td><td>2016-10-06</td></tr>\n",
       "\t<tr><th scope=row>1484</th><td>10/13/2016</td><td>2633      </td><td>Des Moines</td><td>50320     </td><td>POLK      </td><td>$37319.85 </td><td>37319.85  </td><td>2016-10-13</td></tr>\n",
       "\t<tr><th scope=row>1542</th><td>12/16/2016</td><td>2633      </td><td>Des Moines</td><td>50320     </td><td>POLK      </td><td>$79.56    </td><td>   79.56  </td><td>2016-12-16</td></tr>\n",
       "\t<tr><th scope=row>2404</th><td>11/17/2016</td><td>2633      </td><td>Des Moines</td><td>50320     </td><td>POLK      </td><td>$41055.27 </td><td>41055.27  </td><td>2016-11-17</td></tr>\n",
       "\t<tr><th scope=row>2641</th><td>10/03/2016</td><td>2633      </td><td>Des Moines</td><td>50320     </td><td>POLK      </td><td>$27592.98 </td><td>27592.98  </td><td>2016-10-03</td></tr>\n",
       "</tbody>\n",
       "</table>\n"
      ],
      "text/latex": [
       "\\begin{tabular}{r|llllllll}\n",
       "  & Date & Store.Number & City & Zip.Code & County & Total.Sales.to.Store..Dollars. & SalesToStore & SalesDate\\\\\n",
       "\\hline\n",
       "\t322 & 11/03/2016  & 2633        & Des Moines  & 50320       & POLK        & \\$31294.03 & 31294.03    & 2016-11-03 \\\\\n",
       "\t1106 & 10/06/2016  & 2633        & Des Moines  & 50320       & POLK        & \\$34386.10 & 34386.10    & 2016-10-06 \\\\\n",
       "\t1484 & 10/13/2016  & 2633        & Des Moines  & 50320       & POLK        & \\$37319.85 & 37319.85    & 2016-10-13 \\\\\n",
       "\t1542 & 12/16/2016  & 2633        & Des Moines  & 50320       & POLK        & \\$79.56    &    79.56    & 2016-12-16 \\\\\n",
       "\t2404 & 11/17/2016  & 2633        & Des Moines  & 50320       & POLK        & \\$41055.27 & 41055.27    & 2016-11-17 \\\\\n",
       "\t2641 & 10/03/2016  & 2633        & Des Moines  & 50320       & POLK        & \\$27592.98 & 27592.98    & 2016-10-03 \\\\\n",
       "\\end{tabular}\n"
      ],
      "text/markdown": [
       "\n",
       "| <!--/--> | Date | Store.Number | City | Zip.Code | County | Total.Sales.to.Store..Dollars. | SalesToStore | SalesDate | \n",
       "|---|---|---|---|---|---|\n",
       "| 322 | 11/03/2016 | 2633       | Des Moines | 50320      | POLK       | $31294.03  | 31294.03   | 2016-11-03 | \n",
       "| 1106 | 10/06/2016 | 2633       | Des Moines | 50320      | POLK       | $34386.10  | 34386.10   | 2016-10-06 | \n",
       "| 1484 | 10/13/2016 | 2633       | Des Moines | 50320      | POLK       | $37319.85  | 37319.85   | 2016-10-13 | \n",
       "| 1542 | 12/16/2016 | 2633       | Des Moines | 50320      | POLK       | $79.56     |    79.56   | 2016-12-16 | \n",
       "| 2404 | 11/17/2016 | 2633       | Des Moines | 50320      | POLK       | $41055.27  | 41055.27   | 2016-11-17 | \n",
       "| 2641 | 10/03/2016 | 2633       | Des Moines | 50320      | POLK       | $27592.98  | 27592.98   | 2016-10-03 | \n",
       "\n",
       "\n"
      ],
      "text/plain": [
       "     Date       Store.Number City       Zip.Code County\n",
       "322  11/03/2016 2633         Des Moines 50320    POLK  \n",
       "1106 10/06/2016 2633         Des Moines 50320    POLK  \n",
       "1484 10/13/2016 2633         Des Moines 50320    POLK  \n",
       "1542 12/16/2016 2633         Des Moines 50320    POLK  \n",
       "2404 11/17/2016 2633         Des Moines 50320    POLK  \n",
       "2641 10/03/2016 2633         Des Moines 50320    POLK  \n",
       "     Total.Sales.to.Store..Dollars. SalesToStore SalesDate \n",
       "322  $31294.03                      31294.03     2016-11-03\n",
       "1106 $34386.10                      34386.10     2016-10-06\n",
       "1484 $37319.85                      37319.85     2016-10-13\n",
       "1542 $79.56                            79.56     2016-12-16\n",
       "2404 $41055.27                      41055.27     2016-11-17\n",
       "2641 $27592.98                      27592.98     2016-10-03"
      ]
     },
     "metadata": {},
     "output_type": "display_data"
    }
   ],
   "source": [
    "topstoredf <- iowadfcl[subsetrows,]\n",
    "head(topstoredf)"
   ]
  },
  {
   "cell_type": "markdown",
   "metadata": {},
   "source": [
    "There is a lot of duplicated information here. We only really care about the SalesDate and the SalesToStore column. So we'll drop the other columns in this dataframe and assign it the same name (effectively dropping the columns)."
   ]
  },
  {
   "cell_type": "code",
   "execution_count": 12,
   "metadata": {
    "collapsed": false
   },
   "outputs": [],
   "source": [
    "topstoredf <-  subset(topstoredf, select=-c(Date, Store.Number, City, Zip.Code, County, Total.Sales.to.Store..Dollars.))"
   ]
  },
  {
   "cell_type": "markdown",
   "metadata": {},
   "source": [
    "We now want to sort the data by date so that it is listed in chronological order. We will use the `sort_values()` function (in place). We tell `dplyr` which column to sort by."
   ]
  },
  {
   "cell_type": "code",
   "execution_count": 13,
   "metadata": {
    "collapsed": false
   },
   "outputs": [
    {
     "data": {
      "text/html": [
       "<table>\n",
       "<thead><tr><th scope=col>SalesToStore</th><th scope=col>SalesDate</th></tr></thead>\n",
       "<tbody>\n",
       "\t<tr><td>27592.98  </td><td>2016-10-03</td></tr>\n",
       "\t<tr><td> 1621.20  </td><td>2016-10-04</td></tr>\n",
       "\t<tr><td>34386.10  </td><td>2016-10-06</td></tr>\n",
       "\t<tr><td>30216.88  </td><td>2016-10-10</td></tr>\n",
       "\t<tr><td>37319.85  </td><td>2016-10-13</td></tr>\n",
       "\t<tr><td>21817.61  </td><td>2016-10-17</td></tr>\n",
       "</tbody>\n",
       "</table>\n"
      ],
      "text/latex": [
       "\\begin{tabular}{r|ll}\n",
       " SalesToStore & SalesDate\\\\\n",
       "\\hline\n",
       "\t 27592.98   & 2016-10-03\\\\\n",
       "\t  1621.20   & 2016-10-04\\\\\n",
       "\t 34386.10   & 2016-10-06\\\\\n",
       "\t 30216.88   & 2016-10-10\\\\\n",
       "\t 37319.85   & 2016-10-13\\\\\n",
       "\t 21817.61   & 2016-10-17\\\\\n",
       "\\end{tabular}\n"
      ],
      "text/markdown": [
       "\n",
       "SalesToStore | SalesDate | \n",
       "|---|---|---|---|---|---|\n",
       "| 27592.98   | 2016-10-03 | \n",
       "|  1621.20   | 2016-10-04 | \n",
       "| 34386.10   | 2016-10-06 | \n",
       "| 30216.88   | 2016-10-10 | \n",
       "| 37319.85   | 2016-10-13 | \n",
       "| 21817.61   | 2016-10-17 | \n",
       "\n",
       "\n"
      ],
      "text/plain": [
       "  SalesToStore SalesDate \n",
       "1 27592.98     2016-10-03\n",
       "2  1621.20     2016-10-04\n",
       "3 34386.10     2016-10-06\n",
       "4 30216.88     2016-10-10\n",
       "5 37319.85     2016-10-13\n",
       "6 21817.61     2016-10-17"
      ]
     },
     "metadata": {},
     "output_type": "display_data"
    }
   ],
   "source": [
    "topstoredf <- topstoredf %>% arrange(SalesDate)\n",
    "head(topstoredf)"
   ]
  },
  {
   "cell_type": "markdown",
   "metadata": {},
   "source": [
    "Before we move on, let's look at this data. It is always a good idea to have some idea of what the data look like!"
   ]
  },
  {
   "cell_type": "code",
   "execution_count": 14,
   "metadata": {
    "collapsed": false
   },
   "outputs": [
    {
     "data": {},
     "metadata": {},
     "output_type": "display_data"
    },
    {
     "data": {
      "image/png": "[encoded data removed]",
      "text/plain": [
       "plot without title"
      ]
     },
     "metadata": {},
     "output_type": "display_data"
    }
   ],
   "source": [
    "library(ggplot2)\n",
    "options(repr.plot.width=5, repr.plot.height=5)\n",
    "ggplot(topstoredf) + geom_point(aes(SalesDate,SalesToStore))"
   ]
  },
  {
   "cell_type": "markdown",
   "metadata": {},
   "source": [
    "### A Second dataset\n",
    "\n",
    "Now we need another dataset to work with. Let's try pulling the Dow Jones Industrial average index for each day. We'll download the data from [here](https://fred.stlouisfed.org/series/DJIA/downloaddata). We will then turn the date column into the appropriate datetime format."
   ]
  },
  {
   "cell_type": "code",
   "execution_count": 16,
   "metadata": {
    "collapsed": false
   },
   "outputs": [
    {
     "name": "stderr",
     "output_type": "stream",
     "text": [
      "Warning message in eval(expr, envir, enclos):\n",
      "\"NAs introduced by coercion\""
     ]
    },
    {
     "name": "stdout",
     "output_type": "stream",
     "text": [
      "'data.frame':\t65 obs. of  2 variables:\n",
      " $ DATE : POSIXct, format: \"2016-10-03\" \"2016-10-04\" ...\n",
      " $ VALUE: num  18254 18168 18281 18269 18240 ...\n"
     ]
    }
   ],
   "source": [
    "djiadf <- read.csv('Class05_DJIA_data.csv',stringsAsFactors=FALSE)\n",
    "djiadf$DATE <- as.POSIXct(djiadf$DATE)\n",
    "djiadf$VALUE <- as.numeric(djiadf$VALUE)\n",
    "str(djiadf)\n"
   ]
  },
  {
   "cell_type": "code",
   "execution_count": 17,
   "metadata": {
    "collapsed": false
   },
   "outputs": [
    {
     "data": {
      "text/html": [
       "FALSE"
      ],
      "text/latex": [
       "FALSE"
      ],
      "text/markdown": [
       "FALSE"
      ],
      "text/plain": [
       "[1] FALSE"
      ]
     },
     "metadata": {},
     "output_type": "display_data"
    }
   ],
   "source": [
    "# We'll rename the second column to something a little more descriptive\n",
    "djiadf <- rename(djiadf, DowJonesAvg=VALUE)\n",
    "#Let's check for problems:\n",
    "all(complete.cases(djiadf))"
   ]
  },
  {
   "cell_type": "code",
   "execution_count": 18,
   "metadata": {
    "collapsed": false
   },
   "outputs": [
    {
     "data": {
      "text/html": [
       "<table>\n",
       "<thead><tr><th></th><th scope=col>DATE</th><th scope=col>DowJonesAvg</th></tr></thead>\n",
       "<tbody>\n",
       "\t<tr><th scope=row>39</th><td>2016-11-24</td><td>NA        </td></tr>\n",
       "\t<tr><th scope=row>61</th><td>2016-12-26</td><td>NA        </td></tr>\n",
       "</tbody>\n",
       "</table>\n"
      ],
      "text/latex": [
       "\\begin{tabular}{r|ll}\n",
       "  & DATE & DowJonesAvg\\\\\n",
       "\\hline\n",
       "\t39 & 2016-11-24 & NA        \\\\\n",
       "\t61 & 2016-12-26 & NA        \\\\\n",
       "\\end{tabular}\n"
      ],
      "text/markdown": [
       "\n",
       "| <!--/--> | DATE | DowJonesAvg | \n",
       "|---|---|\n",
       "| 39 | 2016-11-24 | NA         | \n",
       "| 61 | 2016-12-26 | NA         | \n",
       "\n",
       "\n"
      ],
      "text/plain": [
       "   DATE       DowJonesAvg\n",
       "39 2016-11-24 NA         \n",
       "61 2016-12-26 NA         "
      ]
     },
     "metadata": {},
     "output_type": "display_data"
    }
   ],
   "source": [
    "# Looks like there are two problem rows. Let's identify which rows by indexing the dataframe any row that isn't complete\n",
    "djiadf[!complete.cases(djiadf),]"
   ]
  },
  {
   "cell_type": "code",
   "execution_count": 19,
   "metadata": {
    "collapsed": false
   },
   "outputs": [
    {
     "data": {
      "text/html": [
       "TRUE"
      ],
      "text/latex": [
       "TRUE"
      ],
      "text/markdown": [
       "TRUE"
      ],
      "text/plain": [
       "[1] TRUE"
      ]
     },
     "metadata": {},
     "output_type": "display_data"
    }
   ],
   "source": [
    "# These were both holidays and shouldn't be included in the data set anyway! We can drop them in place, modifying our dataframe.\n",
    "djiadf<- djiadf[complete.cases(djiadf),]\n",
    "all(complete.cases(djiadf))"
   ]
  },
  {
   "cell_type": "markdown",
   "metadata": {},
   "source": [
    "And, of course, let's plot it to see what it looks like."
   ]
  },
  {
   "cell_type": "code",
   "execution_count": 20,
   "metadata": {
    "collapsed": false
   },
   "outputs": [
    {
     "data": {},
     "metadata": {},
     "output_type": "display_data"
    },
    {
     "data": {
      "image/png": "[encoded data removed]",
      "text/plain": [
       "plot without title"
      ]
     },
     "metadata": {},
     "output_type": "display_data"
    }
   ],
   "source": [
    "ggplot(djiadf) + geom_point(aes(DATE,DowJonesAvg))"
   ]
  },
  {
   "cell_type": "markdown",
   "metadata": {
    "collapsed": true
   },
   "source": [
    "## Joining Data\n",
    "\n",
    "We now want to join the data from the store and the Dow Jones Industrial average. This will let us plot the two together to see if there is any correlation between the DJIA and the purchases that the store is making.\n",
    "\n",
    "In order to join two dataframes we need to know how to align the rows or how to match up the data. The easiest way to do this is to try it out with an example to see how it works. See [this tutorial](http://www.dummies.com/programming/r/how-to-use-the-merge-function-with-data-sets-in-r/) for more details on merging data in `R`. We start by creating two small test dataframes."
   ]
  },
  {
   "cell_type": "code",
   "execution_count": 21,
   "metadata": {
    "collapsed": false
   },
   "outputs": [
    {
     "data": {
      "text/html": [
       "<table>\n",
       "<thead><tr><th scope=col>patient_id</th><th scope=col>first_name</th><th scope=col>last_name</th><th scope=col>visit_number</th></tr></thead>\n",
       "<tbody>\n",
       "\t<tr><td>A       </td><td>Alex    </td><td>Anderson</td><td>1       </td></tr>\n",
       "\t<tr><td>B       </td><td>Amy     </td><td>Ackerman</td><td>2       </td></tr>\n",
       "\t<tr><td>C       </td><td>Allen   </td><td>Ali     </td><td>3       </td></tr>\n",
       "\t<tr><td>D       </td><td>Alice   </td><td>Aoni    </td><td>4       </td></tr>\n",
       "\t<tr><td>E       </td><td>Ayoung  </td><td>Atiches </td><td>5       </td></tr>\n",
       "</tbody>\n",
       "</table>\n"
      ],
      "text/latex": [
       "\\begin{tabular}{r|llll}\n",
       " patient\\_id & first\\_name & last\\_name & visit\\_number\\\\\n",
       "\\hline\n",
       "\t A        & Alex     & Anderson & 1       \\\\\n",
       "\t B        & Amy      & Ackerman & 2       \\\\\n",
       "\t C        & Allen    & Ali      & 3       \\\\\n",
       "\t D        & Alice    & Aoni     & 4       \\\\\n",
       "\t E        & Ayoung   & Atiches  & 5       \\\\\n",
       "\\end{tabular}\n"
      ],
      "text/markdown": [
       "\n",
       "patient_id | first_name | last_name | visit_number | \n",
       "|---|---|---|---|---|\n",
       "| A        | Alex     | Anderson | 1        | \n",
       "| B        | Amy      | Ackerman | 2        | \n",
       "| C        | Allen    | Ali      | 3        | \n",
       "| D        | Alice    | Aoni     | 4        | \n",
       "| E        | Ayoung   | Atiches  | 5        | \n",
       "\n",
       "\n"
      ],
      "text/plain": [
       "  patient_id first_name last_name visit_number\n",
       "1 A          Alex       Anderson  1           \n",
       "2 B          Amy        Ackerman  2           \n",
       "3 C          Allen      Ali       3           \n",
       "4 D          Alice      Aoni      4           \n",
       "5 E          Ayoung     Atiches   5           "
      ]
     },
     "metadata": {},
     "output_type": "display_data"
    }
   ],
   "source": [
    "df_a <- data.frame(\n",
    "        patient_id=c('A', 'B', 'C', 'D', 'E'),\n",
    "        first_name= c('Alex', 'Amy', 'Allen', 'Alice', 'Ayoung'), \n",
    "        last_name= c('Anderson', 'Ackerman', 'Ali', 'Aoni', 'Atiches'),\n",
    "        visit_number= c(1,2,3,4,5),stringsAsFactors=FALSE)\n",
    "\n",
    "df_a"
   ]
  },
  {
   "cell_type": "code",
   "execution_count": 22,
   "metadata": {
    "collapsed": false
   },
   "outputs": [
    {
     "data": {
      "text/html": [
       "<table>\n",
       "<thead><tr><th scope=col>doctor_id</th><th scope=col>first_name</th><th scope=col>last_name</th><th scope=col>visit_number</th></tr></thead>\n",
       "<tbody>\n",
       "\t<tr><td>G      </td><td>Billy  </td><td>Bonder </td><td>4      </td></tr>\n",
       "\t<tr><td>H      </td><td>Brian  </td><td>Black  </td><td>5      </td></tr>\n",
       "\t<tr><td>I      </td><td>Bran   </td><td>Balwner</td><td>6      </td></tr>\n",
       "\t<tr><td>A      </td><td>Bryce  </td><td>Brice  </td><td>7      </td></tr>\n",
       "\t<tr><td>B      </td><td>Betty  </td><td>Btisan </td><td>8      </td></tr>\n",
       "</tbody>\n",
       "</table>\n"
      ],
      "text/latex": [
       "\\begin{tabular}{r|llll}\n",
       " doctor\\_id & first\\_name & last\\_name & visit\\_number\\\\\n",
       "\\hline\n",
       "\t G       & Billy   & Bonder  & 4      \\\\\n",
       "\t H       & Brian   & Black   & 5      \\\\\n",
       "\t I       & Bran    & Balwner & 6      \\\\\n",
       "\t A       & Bryce   & Brice   & 7      \\\\\n",
       "\t B       & Betty   & Btisan  & 8      \\\\\n",
       "\\end{tabular}\n"
      ],
      "text/markdown": [
       "\n",
       "doctor_id | first_name | last_name | visit_number | \n",
       "|---|---|---|---|---|\n",
       "| G       | Billy   | Bonder  | 4       | \n",
       "| H       | Brian   | Black   | 5       | \n",
       "| I       | Bran    | Balwner | 6       | \n",
       "| A       | Bryce   | Brice   | 7       | \n",
       "| B       | Betty   | Btisan  | 8       | \n",
       "\n",
       "\n"
      ],
      "text/plain": [
       "  doctor_id first_name last_name visit_number\n",
       "1 G         Billy      Bonder    4           \n",
       "2 H         Brian      Black     5           \n",
       "3 I         Bran       Balwner   6           \n",
       "4 A         Bryce      Brice     7           \n",
       "5 B         Betty      Btisan    8           "
      ]
     },
     "metadata": {},
     "output_type": "display_data"
    }
   ],
   "source": [
    "df_b <- data.frame(\n",
    "        doctor_id= c('G', 'H', 'I', 'A', 'B'),\n",
    "        first_name= c('Billy', 'Brian', 'Bran', 'Bryce', 'Betty'), \n",
    "        last_name= c('Bonder', 'Black', 'Balwner', 'Brice', 'Btisan'),\n",
    "        visit_number= c(4,5,6,7,8),stringsAsFactors=FALSE)\n",
    "df_b"
   ]
  },
  {
   "cell_type": "code",
   "execution_count": 23,
   "metadata": {
    "collapsed": false
   },
   "outputs": [
    {
     "name": "stdout",
     "output_type": "stream",
     "text": [
      "'data.frame':\t5 obs. of  4 variables:\n",
      " $ patient_id  : chr  \"A\" \"B\" \"C\" \"D\" ...\n",
      " $ first_name  : chr  \"Alex\" \"Amy\" \"Allen\" \"Alice\" ...\n",
      " $ last_name   : chr  \"Anderson\" \"Ackerman\" \"Ali\" \"Aoni\" ...\n",
      " $ visit_number: num  1 2 3 4 5\n"
     ]
    }
   ],
   "source": [
    "str(df_a)"
   ]
  },
  {
   "cell_type": "markdown",
   "metadata": {},
   "source": [
    "How do we tack `df_b` on the end of `df_a`? This is useful if you have pieces of a dataset that you want to combine together.  Notice that there are now `NA` values in the table! The first dataframe didn't have the `doctor_id` column, so `R` filled in those values with `NA`. Same for the second dataframe and the `patient_id` values. We could drop those columns if we wanted to."
   ]
  },
  {
   "cell_type": "code",
   "execution_count": 24,
   "metadata": {
    "collapsed": false
   },
   "outputs": [
    {
     "data": {
      "text/html": [
       "<table>\n",
       "<thead><tr><th scope=col>patient_id</th><th scope=col>first_name</th><th scope=col>last_name</th><th scope=col>visit_number</th><th scope=col>doctor_id</th></tr></thead>\n",
       "<tbody>\n",
       "\t<tr><td>A       </td><td>Alex    </td><td>Anderson</td><td>1       </td><td>NA      </td></tr>\n",
       "\t<tr><td>B       </td><td>Amy     </td><td>Ackerman</td><td>2       </td><td>NA      </td></tr>\n",
       "\t<tr><td>C       </td><td>Allen   </td><td>Ali     </td><td>3       </td><td>NA      </td></tr>\n",
       "\t<tr><td>D       </td><td>Alice   </td><td>Aoni    </td><td>4       </td><td>NA      </td></tr>\n",
       "\t<tr><td>E       </td><td>Ayoung  </td><td>Atiches </td><td>5       </td><td>NA      </td></tr>\n",
       "\t<tr><td>NA      </td><td>Billy   </td><td>Bonder  </td><td>4       </td><td>G       </td></tr>\n",
       "\t<tr><td>NA      </td><td>Brian   </td><td>Black   </td><td>5       </td><td>H       </td></tr>\n",
       "\t<tr><td>NA      </td><td>Bran    </td><td>Balwner </td><td>6       </td><td>I       </td></tr>\n",
       "\t<tr><td>NA      </td><td>Bryce   </td><td>Brice   </td><td>7       </td><td>A       </td></tr>\n",
       "\t<tr><td>NA      </td><td>Betty   </td><td>Btisan  </td><td>8       </td><td>B       </td></tr>\n",
       "</tbody>\n",
       "</table>\n"
      ],
      "text/latex": [
       "\\begin{tabular}{r|lllll}\n",
       " patient\\_id & first\\_name & last\\_name & visit\\_number & doctor\\_id\\\\\n",
       "\\hline\n",
       "\t A        & Alex     & Anderson & 1        & NA      \\\\\n",
       "\t B        & Amy      & Ackerman & 2        & NA      \\\\\n",
       "\t C        & Allen    & Ali      & 3        & NA      \\\\\n",
       "\t D        & Alice    & Aoni     & 4        & NA      \\\\\n",
       "\t E        & Ayoung   & Atiches  & 5        & NA      \\\\\n",
       "\t NA       & Billy    & Bonder   & 4        & G       \\\\\n",
       "\t NA       & Brian    & Black    & 5        & H       \\\\\n",
       "\t NA       & Bran     & Balwner  & 6        & I       \\\\\n",
       "\t NA       & Bryce    & Brice    & 7        & A       \\\\\n",
       "\t NA       & Betty    & Btisan   & 8        & B       \\\\\n",
       "\\end{tabular}\n"
      ],
      "text/markdown": [
       "\n",
       "patient_id | first_name | last_name | visit_number | doctor_id | \n",
       "|---|---|---|---|---|---|---|---|---|---|\n",
       "| A        | Alex     | Anderson | 1        | NA       | \n",
       "| B        | Amy      | Ackerman | 2        | NA       | \n",
       "| C        | Allen    | Ali      | 3        | NA       | \n",
       "| D        | Alice    | Aoni     | 4        | NA       | \n",
       "| E        | Ayoung   | Atiches  | 5        | NA       | \n",
       "| NA       | Billy    | Bonder   | 4        | G        | \n",
       "| NA       | Brian    | Black    | 5        | H        | \n",
       "| NA       | Bran     | Balwner  | 6        | I        | \n",
       "| NA       | Bryce    | Brice    | 7        | A        | \n",
       "| NA       | Betty    | Btisan   | 8        | B        | \n",
       "\n",
       "\n"
      ],
      "text/plain": [
       "   patient_id first_name last_name visit_number doctor_id\n",
       "1  A          Alex       Anderson  1            NA       \n",
       "2  B          Amy        Ackerman  2            NA       \n",
       "3  C          Allen      Ali       3            NA       \n",
       "4  D          Alice      Aoni      4            NA       \n",
       "5  E          Ayoung     Atiches   5            NA       \n",
       "6  NA         Billy      Bonder    4            G        \n",
       "7  NA         Brian      Black     5            H        \n",
       "8  NA         Bran       Balwner   6            I        \n",
       "9  NA         Bryce      Brice     7            A        \n",
       "10 NA         Betty      Btisan    8            B        "
      ]
     },
     "metadata": {},
     "output_type": "display_data"
    }
   ],
   "source": [
    "bind_rows(df_a, df_b)"
   ]
  },
  {
   "cell_type": "markdown",
   "metadata": {},
   "source": [
    "What if we want to join together the rows that have the same visit_number? Looking at the table, we see that Billy Bonder and Alice Aoni have the same `visit_number`. Let's merge the two dataframes together to see how that works."
   ]
  },
  {
   "cell_type": "code",
   "execution_count": 25,
   "metadata": {
    "collapsed": false
   },
   "outputs": [
    {
     "data": {
      "text/html": [
       "<table>\n",
       "<thead><tr><th scope=col>visit_number</th><th scope=col>patient_id</th><th scope=col>first_name.x</th><th scope=col>last_name.x</th><th scope=col>doctor_id</th><th scope=col>first_name.y</th><th scope=col>last_name.y</th></tr></thead>\n",
       "<tbody>\n",
       "\t<tr><td>4      </td><td>D      </td><td>Alice  </td><td>Aoni   </td><td>G      </td><td>Billy  </td><td>Bonder </td></tr>\n",
       "\t<tr><td>5      </td><td>E      </td><td>Ayoung </td><td>Atiches</td><td>H      </td><td>Brian  </td><td>Black  </td></tr>\n",
       "</tbody>\n",
       "</table>\n"
      ],
      "text/latex": [
       "\\begin{tabular}{r|lllllll}\n",
       " visit\\_number & patient\\_id & first\\_name.x & last\\_name.x & doctor\\_id & first\\_name.y & last\\_name.y\\\\\n",
       "\\hline\n",
       "\t 4       & D       & Alice   & Aoni    & G       & Billy   & Bonder \\\\\n",
       "\t 5       & E       & Ayoung  & Atiches & H       & Brian   & Black  \\\\\n",
       "\\end{tabular}\n"
      ],
      "text/markdown": [
       "\n",
       "visit_number | patient_id | first_name.x | last_name.x | doctor_id | first_name.y | last_name.y | \n",
       "|---|---|\n",
       "| 4       | D       | Alice   | Aoni    | G       | Billy   | Bonder  | \n",
       "| 5       | E       | Ayoung  | Atiches | H       | Brian   | Black   | \n",
       "\n",
       "\n"
      ],
      "text/plain": [
       "  visit_number patient_id first_name.x last_name.x doctor_id first_name.y\n",
       "1 4            D          Alice        Aoni        G         Billy       \n",
       "2 5            E          Ayoung       Atiches     H         Brian       \n",
       "  last_name.y\n",
       "1 Bonder     \n",
       "2 Black      "
      ]
     },
     "metadata": {},
     "output_type": "display_data"
    }
   ],
   "source": [
    "merge(df_a,df_b,by=\"visit_number\")"
   ]
  },
  {
   "cell_type": "markdown",
   "metadata": {},
   "source": [
    "So we now have a much smaller dataframe that only has the rows where `visit_number` was the same in both. Note that `R` also has changed the column names. This is because there were duplicate names and it can't have that to maintain unique addressing. Look at [the documentation for R](https://stat.ethz.ch/R-manual/R-devel/library/base/html/merge.html) to see how to change the suffixes that `R` appends.\n",
    "\n",
    "What if, instead, we wanted to merge rows where the `patient_id` from one matches the `doctor_id` from the other? We can do that, too. The two dataframes are given the designations **x** and **y** for the first and second dataframes, respectively. So we need to identify the columns in each to match."
   ]
  },
  {
   "cell_type": "code",
   "execution_count": 26,
   "metadata": {
    "collapsed": false
   },
   "outputs": [
    {
     "data": {
      "text/html": [
       "<table>\n",
       "<thead><tr><th scope=col>patient_id</th><th scope=col>first_name.x</th><th scope=col>last_name.x</th><th scope=col>visit_number.x</th><th scope=col>first_name.y</th><th scope=col>last_name.y</th><th scope=col>visit_number.y</th></tr></thead>\n",
       "<tbody>\n",
       "\t<tr><td>A       </td><td>Alex    </td><td>Anderson</td><td>1       </td><td>Bryce   </td><td>Brice   </td><td>7       </td></tr>\n",
       "\t<tr><td>B       </td><td>Amy     </td><td>Ackerman</td><td>2       </td><td>Betty   </td><td>Btisan  </td><td>8       </td></tr>\n",
       "</tbody>\n",
       "</table>\n"
      ],
      "text/latex": [
       "\\begin{tabular}{r|lllllll}\n",
       " patient\\_id & first\\_name.x & last\\_name.x & visit\\_number.x & first\\_name.y & last\\_name.y & visit\\_number.y\\\\\n",
       "\\hline\n",
       "\t A        & Alex     & Anderson & 1        & Bryce    & Brice    & 7       \\\\\n",
       "\t B        & Amy      & Ackerman & 2        & Betty    & Btisan   & 8       \\\\\n",
       "\\end{tabular}\n"
      ],
      "text/markdown": [
       "\n",
       "patient_id | first_name.x | last_name.x | visit_number.x | first_name.y | last_name.y | visit_number.y | \n",
       "|---|---|\n",
       "| A        | Alex     | Anderson | 1        | Bryce    | Brice    | 7        | \n",
       "| B        | Amy      | Ackerman | 2        | Betty    | Btisan   | 8        | \n",
       "\n",
       "\n"
      ],
      "text/plain": [
       "  patient_id first_name.x last_name.x visit_number.x first_name.y last_name.y\n",
       "1 A          Alex         Anderson    1              Bryce        Brice      \n",
       "2 B          Amy          Ackerman    2              Betty        Btisan     \n",
       "  visit_number.y\n",
       "1 7             \n",
       "2 8             "
      ]
     },
     "metadata": {},
     "output_type": "display_data"
    }
   ],
   "source": [
    "merge(df_a,df_b,by.x='patient_id',by.y='doctor_id')"
   ]
  },
  {
   "cell_type": "markdown",
   "metadata": {},
   "source": [
    "What if we want to keep *all* of the entries in the left dataframe and only add in values on the right where they match? We can do that, too!"
   ]
  },
  {
   "cell_type": "code",
   "execution_count": 27,
   "metadata": {
    "collapsed": false
   },
   "outputs": [
    {
     "data": {
      "text/html": [
       "<table>\n",
       "<thead><tr><th scope=col>visit_number</th><th scope=col>patient_id</th><th scope=col>first_name.x</th><th scope=col>last_name.x</th><th scope=col>doctor_id</th><th scope=col>first_name.y</th><th scope=col>last_name.y</th></tr></thead>\n",
       "<tbody>\n",
       "\t<tr><td>1       </td><td>A       </td><td>Alex    </td><td>Anderson</td><td>NA      </td><td>NA      </td><td>NA      </td></tr>\n",
       "\t<tr><td>2       </td><td>B       </td><td>Amy     </td><td>Ackerman</td><td>NA      </td><td>NA      </td><td>NA      </td></tr>\n",
       "\t<tr><td>3       </td><td>C       </td><td>Allen   </td><td>Ali     </td><td>NA      </td><td>NA      </td><td>NA      </td></tr>\n",
       "\t<tr><td>4       </td><td>D       </td><td>Alice   </td><td>Aoni    </td><td>G       </td><td>Billy   </td><td>Bonder  </td></tr>\n",
       "\t<tr><td>5       </td><td>E       </td><td>Ayoung  </td><td>Atiches </td><td>H       </td><td>Brian   </td><td>Black   </td></tr>\n",
       "</tbody>\n",
       "</table>\n"
      ],
      "text/latex": [
       "\\begin{tabular}{r|lllllll}\n",
       " visit\\_number & patient\\_id & first\\_name.x & last\\_name.x & doctor\\_id & first\\_name.y & last\\_name.y\\\\\n",
       "\\hline\n",
       "\t 1        & A        & Alex     & Anderson & NA       & NA       & NA      \\\\\n",
       "\t 2        & B        & Amy      & Ackerman & NA       & NA       & NA      \\\\\n",
       "\t 3        & C        & Allen    & Ali      & NA       & NA       & NA      \\\\\n",
       "\t 4        & D        & Alice    & Aoni     & G        & Billy    & Bonder  \\\\\n",
       "\t 5        & E        & Ayoung   & Atiches  & H        & Brian    & Black   \\\\\n",
       "\\end{tabular}\n"
      ],
      "text/markdown": [
       "\n",
       "visit_number | patient_id | first_name.x | last_name.x | doctor_id | first_name.y | last_name.y | \n",
       "|---|---|---|---|---|\n",
       "| 1        | A        | Alex     | Anderson | NA       | NA       | NA       | \n",
       "| 2        | B        | Amy      | Ackerman | NA       | NA       | NA       | \n",
       "| 3        | C        | Allen    | Ali      | NA       | NA       | NA       | \n",
       "| 4        | D        | Alice    | Aoni     | G        | Billy    | Bonder   | \n",
       "| 5        | E        | Ayoung   | Atiches  | H        | Brian    | Black    | \n",
       "\n",
       "\n"
      ],
      "text/plain": [
       "  visit_number patient_id first_name.x last_name.x doctor_id first_name.y\n",
       "1 1            A          Alex         Anderson    NA        NA          \n",
       "2 2            B          Amy          Ackerman    NA        NA          \n",
       "3 3            C          Allen        Ali         NA        NA          \n",
       "4 4            D          Alice        Aoni        G         Billy       \n",
       "5 5            E          Ayoung       Atiches     H         Brian       \n",
       "  last_name.y\n",
       "1 NA         \n",
       "2 NA         \n",
       "3 NA         \n",
       "4 Bonder     \n",
       "5 Black      "
      ]
     },
     "metadata": {},
     "output_type": "display_data"
    }
   ],
   "source": [
    "merge(df_a,df_b,by='visit_number',all.x=TRUE)"
   ]
  },
  {
   "cell_type": "markdown",
   "metadata": {},
   "source": [
    "Not surprisingly, we can do the right-side, too."
   ]
  },
  {
   "cell_type": "code",
   "execution_count": 28,
   "metadata": {
    "collapsed": false
   },
   "outputs": [
    {
     "data": {
      "text/html": [
       "<table>\n",
       "<thead><tr><th scope=col>visit_number</th><th scope=col>patient_id</th><th scope=col>first_name.x</th><th scope=col>last_name.x</th><th scope=col>doctor_id</th><th scope=col>first_name.y</th><th scope=col>last_name.y</th></tr></thead>\n",
       "<tbody>\n",
       "\t<tr><td>4      </td><td>D      </td><td>Alice  </td><td>Aoni   </td><td>G      </td><td>Billy  </td><td>Bonder </td></tr>\n",
       "\t<tr><td>5      </td><td>E      </td><td>Ayoung </td><td>Atiches</td><td>H      </td><td>Brian  </td><td>Black  </td></tr>\n",
       "\t<tr><td>6      </td><td>NA     </td><td>NA     </td><td>NA     </td><td>I      </td><td>Bran   </td><td>Balwner</td></tr>\n",
       "\t<tr><td>7      </td><td>NA     </td><td>NA     </td><td>NA     </td><td>A      </td><td>Bryce  </td><td>Brice  </td></tr>\n",
       "\t<tr><td>8      </td><td>NA     </td><td>NA     </td><td>NA     </td><td>B      </td><td>Betty  </td><td>Btisan </td></tr>\n",
       "</tbody>\n",
       "</table>\n"
      ],
      "text/latex": [
       "\\begin{tabular}{r|lllllll}\n",
       " visit\\_number & patient\\_id & first\\_name.x & last\\_name.x & doctor\\_id & first\\_name.y & last\\_name.y\\\\\n",
       "\\hline\n",
       "\t 4       & D       & Alice   & Aoni    & G       & Billy   & Bonder \\\\\n",
       "\t 5       & E       & Ayoung  & Atiches & H       & Brian   & Black  \\\\\n",
       "\t 6       & NA      & NA      & NA      & I       & Bran    & Balwner\\\\\n",
       "\t 7       & NA      & NA      & NA      & A       & Bryce   & Brice  \\\\\n",
       "\t 8       & NA      & NA      & NA      & B       & Betty   & Btisan \\\\\n",
       "\\end{tabular}\n"
      ],
      "text/markdown": [
       "\n",
       "visit_number | patient_id | first_name.x | last_name.x | doctor_id | first_name.y | last_name.y | \n",
       "|---|---|---|---|---|\n",
       "| 4       | D       | Alice   | Aoni    | G       | Billy   | Bonder  | \n",
       "| 5       | E       | Ayoung  | Atiches | H       | Brian   | Black   | \n",
       "| 6       | NA      | NA      | NA      | I       | Bran    | Balwner | \n",
       "| 7       | NA      | NA      | NA      | A       | Bryce   | Brice   | \n",
       "| 8       | NA      | NA      | NA      | B       | Betty   | Btisan  | \n",
       "\n",
       "\n"
      ],
      "text/plain": [
       "  visit_number patient_id first_name.x last_name.x doctor_id first_name.y\n",
       "1 4            D          Alice        Aoni        G         Billy       \n",
       "2 5            E          Ayoung       Atiches     H         Brian       \n",
       "3 6            NA         NA           NA          I         Bran        \n",
       "4 7            NA         NA           NA          A         Bryce       \n",
       "5 8            NA         NA           NA          B         Betty       \n",
       "  last_name.y\n",
       "1 Bonder     \n",
       "2 Black      \n",
       "3 Balwner    \n",
       "4 Brice      \n",
       "5 Btisan     "
      ]
     },
     "metadata": {},
     "output_type": "display_data"
    }
   ],
   "source": [
    "merge(df_a,df_b,by='visit_number',all.y=TRUE)"
   ]
  },
  {
   "cell_type": "markdown",
   "metadata": {},
   "source": [
    "Finally, we can do both and include all the data from both dataframes, matching where possible. That is called an \"outer\" join."
   ]
  },
  {
   "cell_type": "code",
   "execution_count": 29,
   "metadata": {
    "collapsed": false
   },
   "outputs": [
    {
     "data": {
      "text/html": [
       "<table>\n",
       "<thead><tr><th scope=col>visit_number</th><th scope=col>patient_id</th><th scope=col>first_name.x</th><th scope=col>last_name.x</th><th scope=col>doctor_id</th><th scope=col>first_name.y</th><th scope=col>last_name.y</th></tr></thead>\n",
       "<tbody>\n",
       "\t<tr><td>1       </td><td>A       </td><td>Alex    </td><td>Anderson</td><td>NA      </td><td>NA      </td><td>NA      </td></tr>\n",
       "\t<tr><td>2       </td><td>B       </td><td>Amy     </td><td>Ackerman</td><td>NA      </td><td>NA      </td><td>NA      </td></tr>\n",
       "\t<tr><td>3       </td><td>C       </td><td>Allen   </td><td>Ali     </td><td>NA      </td><td>NA      </td><td>NA      </td></tr>\n",
       "\t<tr><td>4       </td><td>D       </td><td>Alice   </td><td>Aoni    </td><td>G       </td><td>Billy   </td><td>Bonder  </td></tr>\n",
       "\t<tr><td>5       </td><td>E       </td><td>Ayoung  </td><td>Atiches </td><td>H       </td><td>Brian   </td><td>Black   </td></tr>\n",
       "\t<tr><td>6       </td><td>NA      </td><td>NA      </td><td>NA      </td><td>I       </td><td>Bran    </td><td>Balwner </td></tr>\n",
       "\t<tr><td>7       </td><td>NA      </td><td>NA      </td><td>NA      </td><td>A       </td><td>Bryce   </td><td>Brice   </td></tr>\n",
       "\t<tr><td>8       </td><td>NA      </td><td>NA      </td><td>NA      </td><td>B       </td><td>Betty   </td><td>Btisan  </td></tr>\n",
       "</tbody>\n",
       "</table>\n"
      ],
      "text/latex": [
       "\\begin{tabular}{r|lllllll}\n",
       " visit\\_number & patient\\_id & first\\_name.x & last\\_name.x & doctor\\_id & first\\_name.y & last\\_name.y\\\\\n",
       "\\hline\n",
       "\t 1        & A        & Alex     & Anderson & NA       & NA       & NA      \\\\\n",
       "\t 2        & B        & Amy      & Ackerman & NA       & NA       & NA      \\\\\n",
       "\t 3        & C        & Allen    & Ali      & NA       & NA       & NA      \\\\\n",
       "\t 4        & D        & Alice    & Aoni     & G        & Billy    & Bonder  \\\\\n",
       "\t 5        & E        & Ayoung   & Atiches  & H        & Brian    & Black   \\\\\n",
       "\t 6        & NA       & NA       & NA       & I        & Bran     & Balwner \\\\\n",
       "\t 7        & NA       & NA       & NA       & A        & Bryce    & Brice   \\\\\n",
       "\t 8        & NA       & NA       & NA       & B        & Betty    & Btisan  \\\\\n",
       "\\end{tabular}\n"
      ],
      "text/markdown": [
       "\n",
       "visit_number | patient_id | first_name.x | last_name.x | doctor_id | first_name.y | last_name.y | \n",
       "|---|---|---|---|---|---|---|---|\n",
       "| 1        | A        | Alex     | Anderson | NA       | NA       | NA       | \n",
       "| 2        | B        | Amy      | Ackerman | NA       | NA       | NA       | \n",
       "| 3        | C        | Allen    | Ali      | NA       | NA       | NA       | \n",
       "| 4        | D        | Alice    | Aoni     | G        | Billy    | Bonder   | \n",
       "| 5        | E        | Ayoung   | Atiches  | H        | Brian    | Black    | \n",
       "| 6        | NA       | NA       | NA       | I        | Bran     | Balwner  | \n",
       "| 7        | NA       | NA       | NA       | A        | Bryce    | Brice    | \n",
       "| 8        | NA       | NA       | NA       | B        | Betty    | Btisan   | \n",
       "\n",
       "\n"
      ],
      "text/plain": [
       "  visit_number patient_id first_name.x last_name.x doctor_id first_name.y\n",
       "1 1            A          Alex         Anderson    NA        NA          \n",
       "2 2            B          Amy          Ackerman    NA        NA          \n",
       "3 3            C          Allen        Ali         NA        NA          \n",
       "4 4            D          Alice        Aoni        G         Billy       \n",
       "5 5            E          Ayoung       Atiches     H         Brian       \n",
       "6 6            NA         NA           NA          I         Bran        \n",
       "7 7            NA         NA           NA          A         Bryce       \n",
       "8 8            NA         NA           NA          B         Betty       \n",
       "  last_name.y\n",
       "1 NA         \n",
       "2 NA         \n",
       "3 NA         \n",
       "4 Bonder     \n",
       "5 Black      \n",
       "6 Balwner    \n",
       "7 Brice      \n",
       "8 Btisan     "
      ]
     },
     "metadata": {},
     "output_type": "display_data"
    }
   ],
   "source": [
    "merge(df_a,df_b,by='visit_number',all=TRUE)"
   ]
  },
  {
   "cell_type": "markdown",
   "metadata": {},
   "source": [
    "#### Choosing the Merge Index\n",
    "\n",
    "How do you choose the merge index? We used both the `visit_number` and the `patient/doctor_id` values. The key is to be able to merge on some common feature. This may be date (like we show below), but it could also be on zip code, a city name, the month number, financial quarter, or any other piece of information that you have common between your two datasets. You need to make sure that the merge indices have the same data type and are in the same format. For example, the computer doesn't know that 'DALLAS' and 'Dallas' are the same city. We can use the tools we've previously covered to clean up the data prior to attempting the merge."
   ]
  },
  {
   "cell_type": "markdown",
   "metadata": {},
   "source": [
    "## Merging the Store and DJIA data\n",
    "\n",
    "Since we want to keep all of the store data and merge in the DJIA data where we can, we are going to try a left join. We are also going to try joining on the date - they should match up reasonably well."
   ]
  },
  {
   "cell_type": "code",
   "execution_count": 30,
   "metadata": {
    "collapsed": false
   },
   "outputs": [
    {
     "data": {
      "text/html": [
       "<table>\n",
       "<thead><tr><th scope=col>SalesDate</th><th scope=col>SalesToStore</th><th scope=col>DowJonesAvg</th></tr></thead>\n",
       "<tbody>\n",
       "\t<tr><td>2016-10-03</td><td>27592.98  </td><td>18253.85  </td></tr>\n",
       "\t<tr><td>2016-10-04</td><td> 1621.20  </td><td>18168.45  </td></tr>\n",
       "\t<tr><td>2016-10-06</td><td>34386.10  </td><td>18268.50  </td></tr>\n",
       "\t<tr><td>2016-10-10</td><td>30216.88  </td><td>18329.04  </td></tr>\n",
       "\t<tr><td>2016-10-13</td><td>37319.85  </td><td>18098.94  </td></tr>\n",
       "\t<tr><td>2016-10-17</td><td>21817.61  </td><td>18086.40  </td></tr>\n",
       "</tbody>\n",
       "</table>\n"
      ],
      "text/latex": [
       "\\begin{tabular}{r|lll}\n",
       " SalesDate & SalesToStore & DowJonesAvg\\\\\n",
       "\\hline\n",
       "\t 2016-10-03 & 27592.98   & 18253.85  \\\\\n",
       "\t 2016-10-04 &  1621.20   & 18168.45  \\\\\n",
       "\t 2016-10-06 & 34386.10   & 18268.50  \\\\\n",
       "\t 2016-10-10 & 30216.88   & 18329.04  \\\\\n",
       "\t 2016-10-13 & 37319.85   & 18098.94  \\\\\n",
       "\t 2016-10-17 & 21817.61   & 18086.40  \\\\\n",
       "\\end{tabular}\n"
      ],
      "text/markdown": [
       "\n",
       "SalesDate | SalesToStore | DowJonesAvg | \n",
       "|---|---|---|---|---|---|\n",
       "| 2016-10-03 | 27592.98   | 18253.85   | \n",
       "| 2016-10-04 |  1621.20   | 18168.45   | \n",
       "| 2016-10-06 | 34386.10   | 18268.50   | \n",
       "| 2016-10-10 | 30216.88   | 18329.04   | \n",
       "| 2016-10-13 | 37319.85   | 18098.94   | \n",
       "| 2016-10-17 | 21817.61   | 18086.40   | \n",
       "\n",
       "\n"
      ],
      "text/plain": [
       "  SalesDate  SalesToStore DowJonesAvg\n",
       "1 2016-10-03 27592.98     18253.85   \n",
       "2 2016-10-04  1621.20     18168.45   \n",
       "3 2016-10-06 34386.10     18268.50   \n",
       "4 2016-10-10 30216.88     18329.04   \n",
       "5 2016-10-13 37319.85     18098.94   \n",
       "6 2016-10-17 21817.61     18086.40   "
      ]
     },
     "metadata": {},
     "output_type": "display_data"
    }
   ],
   "source": [
    "storeDJ <- merge(topstoredf, djiadf, by.x='SalesDate',by.y='DATE')\n",
    "head(storeDJ)"
   ]
  },
  {
   "cell_type": "markdown",
   "metadata": {},
   "source": [
    "Now we can do what we wanted to do: plot the data to see if there is a correlation here!"
   ]
  },
  {
   "cell_type": "code",
   "execution_count": 31,
   "metadata": {
    "collapsed": false
   },
   "outputs": [
    {
     "data": {},
     "metadata": {},
     "output_type": "display_data"
    },
    {
     "data": {
      "image/png": "[encoded data removed]",
      "text/plain": [
       "plot without title"
      ]
     },
     "metadata": {},
     "output_type": "display_data"
    }
   ],
   "source": [
    "ggplot(storeDJ) + geom_point(aes(DowJonesAvg,SalesToStore))"
   ]
  },
  {
   "cell_type": "markdown",
   "metadata": {},
   "source": [
    "Well, after all that work, it doesn't look like there is anything there... Perhaps that isn't too surprising as the purchases by a single store may not depend on a macro-scale indicator like the Dow Jones Industrial average. But we didn't know that until we checked.\n",
    "\n",
    "\n",
    "## In-class Activity\n",
    "\n",
    "Instead of looking at the sales to one store, what if we look at the total sales to all of the stores in the state of Iowa? Go through the process of grouping that data and joining it with the DJIA data. Plot the results and show me before you leave."
   ]
  },
  {
   "cell_type": "markdown",
   "metadata": {
    "collapsed": true
   },
   "source": [
    "# Assignment\n",
    "\n",
    "Your assignment this week is to do data enriching on your dataset. You can either add/join data or do some kind of grouping to subset the data. I want documentation of what you did and how it turned out. Like our example today, you may find that the data enriching doesn't do much.\n"
   ]
  },
  {
   "cell_type": "code",
   "execution_count": null,
   "metadata": {
    "collapsed": true
   },
   "outputs": [],
   "source": []
  }
 ],
 "metadata": {
  "kernelspec": {
   "display_name": "R",
   "language": "R",
   "name": "ir"
  },
  "language_info": {
   "codemirror_mode": "r",
   "file_extension": ".r",
   "mimetype": "text/x-r-source",
   "name": "R",
   "pygments_lexer": "r",
   "version": "3.3.2"
  }
 },
 "nbformat": 4,
 "nbformat_minor": 0
}
